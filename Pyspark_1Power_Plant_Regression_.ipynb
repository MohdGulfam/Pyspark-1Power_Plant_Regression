{
  "nbformat": 4,
  "nbformat_minor": 0,
  "metadata": {
    "colab": {
      "name": "Pyspark-1Power_Plant_Regression .ipynb",
      "provenance": [],
      "collapsed_sections": []
    },
    "kernelspec": {
      "name": "python3",
      "display_name": "Python 3"
    },
    "language_info": {
      "name": "python"
    }
  },
  "cells": [
    {
      "cell_type": "code",
      "metadata": {
        "colab": {
          "base_uri": "https://localhost:8080/"
        },
        "id": "MO7tMDk2ZRvQ",
        "outputId": "ecbe98c0-4f5c-415b-8325-7d9f1a29a56b"
      },
      "source": [
        "!pip install pyspark"
      ],
      "execution_count": 87,
      "outputs": [
        {
          "output_type": "stream",
          "text": [
            "Requirement already satisfied: pyspark in /usr/local/lib/python3.7/dist-packages (3.1.2)\n",
            "Requirement already satisfied: py4j==0.10.9 in /usr/local/lib/python3.7/dist-packages (from pyspark) (0.10.9)\n"
          ],
          "name": "stdout"
        }
      ]
    },
    {
      "cell_type": "markdown",
      "metadata": {
        "id": "Mpikw5rn2EsG"
      },
      "source": [
        "**Step-1Import Library and Start Spark Session**"
      ]
    },
    {
      "cell_type": "code",
      "metadata": {
        "id": "vDyZjWiAaJoy"
      },
      "source": [
        "import pyspark"
      ],
      "execution_count": 88,
      "outputs": []
    },
    {
      "cell_type": "code",
      "metadata": {
        "id": "lfCWp_y1aJtU"
      },
      "source": [
        "#Start the Spark Session \n",
        "from pyspark.sql import SparkSession\n",
        "spark1 = SparkSession.builder.appName('Basics').getOrCreate()"
      ],
      "execution_count": 89,
      "outputs": []
    },
    {
      "cell_type": "code",
      "metadata": {
        "colab": {
          "base_uri": "https://localhost:8080/",
          "height": 216
        },
        "id": "yrKZNMDHaJxY",
        "outputId": "633b4c0a-a7ea-480f-c8d5-0d299a80d1e5"
      },
      "source": [
        "#Check is it assign \n",
        "spark1"
      ],
      "execution_count": 90,
      "outputs": [
        {
          "output_type": "execute_result",
          "data": {
            "text/html": [
              "\n",
              "            <div>\n",
              "                <p><b>SparkSession - in-memory</b></p>\n",
              "                \n",
              "        <div>\n",
              "            <p><b>SparkContext</b></p>\n",
              "\n",
              "            <p><a href=\"http://25d3171c8a91:4040\">Spark UI</a></p>\n",
              "\n",
              "            <dl>\n",
              "              <dt>Version</dt>\n",
              "                <dd><code>v3.1.2</code></dd>\n",
              "              <dt>Master</dt>\n",
              "                <dd><code>local[*]</code></dd>\n",
              "              <dt>AppName</dt>\n",
              "                <dd><code>Basics</code></dd>\n",
              "            </dl>\n",
              "        </div>\n",
              "        \n",
              "            </div>\n",
              "        "
            ],
            "text/plain": [
              "<pyspark.sql.session.SparkSession at 0x7fa2cddd2290>"
            ]
          },
          "metadata": {
            "tags": []
          },
          "execution_count": 90
        }
      ]
    },
    {
      "cell_type": "markdown",
      "metadata": {
        "id": "DKRfjfAK24mG"
      },
      "source": [
        "**Step-2 Load The Dataset**"
      ]
    },
    {
      "cell_type": "code",
      "metadata": {
        "id": "l9VgFF37aJ1I"
      },
      "source": [
        "#Load Dataset\n",
        "data=spark1.read.option('header','true').csv('/content/complete_plant.csv').cache()"
      ],
      "execution_count": 91,
      "outputs": []
    },
    {
      "cell_type": "code",
      "metadata": {
        "colab": {
          "base_uri": "https://localhost:8080/"
        },
        "id": "Ez6yloR0hn3Z",
        "outputId": "4431b5b8-edaa-4e5f-f33d-5b24acdfd7bb"
      },
      "source": [
        "data"
      ],
      "execution_count": 92,
      "outputs": [
        {
          "output_type": "execute_result",
          "data": {
            "text/plain": [
              "DataFrame[AT: string, V: string, AP: string, RH: string, EP: string]"
            ]
          },
          "metadata": {
            "tags": []
          },
          "execution_count": 92
        }
      ]
    },
    {
      "cell_type": "code",
      "metadata": {
        "colab": {
          "base_uri": "https://localhost:8080/"
        },
        "id": "1ETcJHO0aJ4z",
        "outputId": "537f5712-deb9-4aaa-b36d-bbdf821f7600"
      },
      "source": [
        "data.show()"
      ],
      "execution_count": 93,
      "outputs": [
        {
          "output_type": "stream",
          "text": [
            "+-----+-----+-------+-----+------+\n",
            "|   AT|    V|     AP|   RH|    EP|\n",
            "+-----+-----+-------+-----+------+\n",
            "|14.96|41.76|1024.07|73.17|463.26|\n",
            "|25.18|62.96|1020.04|59.08|444.37|\n",
            "| 5.11| 39.4|1012.16|92.14|488.56|\n",
            "|20.86|57.32|1010.24|76.64|446.48|\n",
            "|10.82| 37.5|1009.23|96.62| 473.9|\n",
            "|26.27|59.44|1012.23|58.77|443.67|\n",
            "|15.89|43.96|1014.02|75.24|467.35|\n",
            "| 9.48|44.71|1019.12|66.43|478.42|\n",
            "|14.64|   45|1021.78|41.25|475.98|\n",
            "|11.74|43.56|1015.14|70.72| 477.5|\n",
            "|17.99|43.72|1008.64|75.04|453.02|\n",
            "|20.14|46.93|1014.66|64.22|453.99|\n",
            "|24.34| 73.5|1011.31|84.15|440.29|\n",
            "|25.71|58.59|1012.77|61.83|451.28|\n",
            "|26.19|69.34|1009.48|87.59|433.99|\n",
            "|21.42|43.79|1015.76|43.08|462.19|\n",
            "|18.21|   45|1022.86|48.84|467.54|\n",
            "|11.04|41.74| 1022.6|77.51| 477.2|\n",
            "|14.45|52.75|1023.97|63.59|459.85|\n",
            "|13.97|38.47|1015.15|55.28| 464.3|\n",
            "+-----+-----+-------+-----+------+\n",
            "only showing top 20 rows\n",
            "\n"
          ],
          "name": "stdout"
        }
      ]
    },
    {
      "cell_type": "code",
      "metadata": {
        "colab": {
          "base_uri": "https://localhost:8080/"
        },
        "id": "Man04L3ghayV",
        "outputId": "63759145-f415-4599-b5e3-dbf9d586e97c"
      },
      "source": [
        "#Check the Datatype \n",
        "data.dtypes"
      ],
      "execution_count": 94,
      "outputs": [
        {
          "output_type": "execute_result",
          "data": {
            "text/plain": [
              "[('AT', 'string'),\n",
              " ('V', 'string'),\n",
              " ('AP', 'string'),\n",
              " ('RH', 'string'),\n",
              " ('EP', 'string')]"
            ]
          },
          "metadata": {
            "tags": []
          },
          "execution_count": 94
        }
      ]
    },
    {
      "cell_type": "code",
      "metadata": {
        "colab": {
          "base_uri": "https://localhost:8080/"
        },
        "id": "TkiBuGNErjrH",
        "outputId": "527299af-e7df-424d-dbbd-187014b2e24f"
      },
      "source": [
        "#Show schema of movies dataframe\n",
        "data.printSchema()"
      ],
      "execution_count": 95,
      "outputs": [
        {
          "output_type": "stream",
          "text": [
            "root\n",
            " |-- AT: string (nullable = true)\n",
            " |-- V: string (nullable = true)\n",
            " |-- AP: string (nullable = true)\n",
            " |-- RH: string (nullable = true)\n",
            " |-- EP: string (nullable = true)\n",
            "\n"
          ],
          "name": "stdout"
        }
      ]
    },
    {
      "cell_type": "code",
      "metadata": {
        "colab": {
          "base_uri": "https://localhost:8080/"
        },
        "id": "BTGtque1rpI8",
        "outputId": "740bf70f-497d-4f2a-a592-83ab5e80d6ec"
      },
      "source": [
        "data.columns"
      ],
      "execution_count": 96,
      "outputs": [
        {
          "output_type": "execute_result",
          "data": {
            "text/plain": [
              "['AT', 'V', 'AP', 'RH', 'EP']"
            ]
          },
          "metadata": {
            "tags": []
          },
          "execution_count": 96
        }
      ]
    },
    {
      "cell_type": "code",
      "metadata": {
        "colab": {
          "base_uri": "https://localhost:8080/"
        },
        "id": "xkyq5wTGrtVC",
        "outputId": "47c57677-39dc-48cd-aa51-65b61cb09c2b"
      },
      "source": [
        "#Describe \n",
        "data.describe().show()"
      ],
      "execution_count": 97,
      "outputs": [
        {
          "output_type": "stream",
          "text": [
            "+-------+-----------------+------------------+------------------+-----------------+------------------+\n",
            "|summary|               AT|                 V|                AP|               RH|                EP|\n",
            "+-------+-----------------+------------------+------------------+-----------------+------------------+\n",
            "|  count|            47840|             47840|             47840|            47840|             47840|\n",
            "|   mean|19.65144021739117| 54.30580372073524|1013.2590781772577| 73.3089778428094|454.36500919732975|\n",
            "| stddev| 7.45201547800603|12.707361709685806| 5.938535418520848|14.59965835208147| 17.06628146634786|\n",
            "|    min|             1.81|             25.36|              1000|              100|            420.26|\n",
            "|    max|             9.99|             81.56|            999.99|            99.97|            495.76|\n",
            "+-------+-----------------+------------------+------------------+-----------------+------------------+\n",
            "\n"
          ],
          "name": "stdout"
        }
      ]
    },
    {
      "cell_type": "code",
      "metadata": {
        "colab": {
          "base_uri": "https://localhost:8080/"
        },
        "id": "rCGQzVGBsFX2",
        "outputId": "45fb3264-0ba6-40d3-caa8-257001a51fb9"
      },
      "source": [
        "data.summary().show()"
      ],
      "execution_count": 98,
      "outputs": [
        {
          "output_type": "stream",
          "text": [
            "+-------+-----------------+------------------+------------------+-----------------+------------------+\n",
            "|summary|               AT|                 V|                AP|               RH|                EP|\n",
            "+-------+-----------------+------------------+------------------+-----------------+------------------+\n",
            "|  count|            47840|             47840|             47840|            47840|             47840|\n",
            "|   mean|19.65144021739117| 54.30580372073524|1013.2590781772577| 73.3089778428094|454.36500919732975|\n",
            "| stddev| 7.45201547800603|12.707361709685806| 5.938535418520848|14.59965835208147| 17.06628146634786|\n",
            "|    min|             1.81|             25.36|              1000|              100|            420.26|\n",
            "|    25%|            13.51|             41.74|            1009.1|            63.32|            439.75|\n",
            "|    50%|            20.34|             52.08|           1012.94|            74.97|            451.52|\n",
            "|    75%|            25.72|             66.54|           1017.26|            84.83|            468.43|\n",
            "|    max|             9.99|             81.56|            999.99|            99.97|            495.76|\n",
            "+-------+-----------------+------------------+------------------+-----------------+------------------+\n",
            "\n"
          ],
          "name": "stdout"
        }
      ]
    },
    {
      "cell_type": "code",
      "metadata": {
        "colab": {
          "base_uri": "https://localhost:8080/"
        },
        "id": "RyD345JAsKEn",
        "outputId": "218e51e6-10a9-486f-853d-c8d68a0b5a94"
      },
      "source": [
        "#These methods return some or all rows as a Python list.\n",
        "data.take(2)"
      ],
      "execution_count": 99,
      "outputs": [
        {
          "output_type": "execute_result",
          "data": {
            "text/plain": [
              "[Row(AT='14.96', V='41.76', AP='1024.07', RH='73.17', EP='463.26'),\n",
              " Row(AT='25.18', V='62.96', AP='1020.04', RH='59.08', EP='444.37')]"
            ]
          },
          "metadata": {
            "tags": []
          },
          "execution_count": 99
        }
      ]
    },
    {
      "cell_type": "code",
      "metadata": {
        "id": "oIHjKVqTs9Ah"
      },
      "source": [
        "#Convert the Datatype from String To Int \n",
        "from pyspark.sql.types import IntegerType\n",
        "data = data.withColumn(\"AT\", data[\"AT\"].cast(IntegerType()))\n",
        "data = data.withColumn(\"V\", data[\"V\"].cast(IntegerType()))\n",
        "data = data.withColumn(\"AP\", data[\"AP\"].cast(IntegerType()))\n",
        "data = data.withColumn(\"RH\", data[\"RH\"].cast(IntegerType()))\n",
        "data = data.withColumn(\"EP\", data[\"EP\"].cast(IntegerType()))"
      ],
      "execution_count": 100,
      "outputs": []
    },
    {
      "cell_type": "code",
      "metadata": {
        "colab": {
          "base_uri": "https://localhost:8080/"
        },
        "id": "bUYUH3p8tF7A",
        "outputId": "2f48f1c1-3e94-4a52-e3bd-bc99a8b76b56"
      },
      "source": [
        "data.dtypes"
      ],
      "execution_count": 101,
      "outputs": [
        {
          "output_type": "execute_result",
          "data": {
            "text/plain": [
              "[('AT', 'int'), ('V', 'int'), ('AP', 'int'), ('RH', 'int'), ('EP', 'int')]"
            ]
          },
          "metadata": {
            "tags": []
          },
          "execution_count": 101
        }
      ]
    },
    {
      "cell_type": "markdown",
      "metadata": {
        "id": "TQzqJaZ56157"
      },
      "source": [
        "**Step-3 Checek the NULL Values**"
      ]
    },
    {
      "cell_type": "code",
      "metadata": {
        "colab": {
          "base_uri": "https://localhost:8080/"
        },
        "id": "wHL0nWGA5XkK",
        "outputId": "2c017c6f-6c26-492c-dbdd-b335a2747548"
      },
      "source": [
        "### Get count of null values in pyspark\n",
        "from pyspark.sql.functions import isnan, when, count, col\n",
        "data.select([count(when(col(c).isNull(), c)).alias(c) for c in data.columns]).show()"
      ],
      "execution_count": 102,
      "outputs": [
        {
          "output_type": "stream",
          "text": [
            "+---+---+---+---+---+\n",
            "| AT|  V| AP| RH| EP|\n",
            "+---+---+---+---+---+\n",
            "|  0|  0|  0|  0|  0|\n",
            "+---+---+---+---+---+\n",
            "\n"
          ],
          "name": "stdout"
        }
      ]
    },
    {
      "cell_type": "code",
      "metadata": {
        "colab": {
          "base_uri": "https://localhost:8080/"
        },
        "id": "fl-SQQOU7H2h",
        "outputId": "81678476-3ecc-4eae-d941-4de5b5c71d58"
      },
      "source": [
        "### Get count of nan or missing values in pyspark\n",
        "from pyspark.sql.functions import isnan, when, count, col\n",
        "data.select([count(when(isnan(c), c)).alias(c) for c in data.columns]).show()"
      ],
      "execution_count": 103,
      "outputs": [
        {
          "output_type": "stream",
          "text": [
            "+---+---+---+---+---+\n",
            "| AT|  V| AP| RH| EP|\n",
            "+---+---+---+---+---+\n",
            "|  0|  0|  0|  0|  0|\n",
            "+---+---+---+---+---+\n",
            "\n"
          ],
          "name": "stdout"
        }
      ]
    },
    {
      "cell_type": "code",
      "metadata": {
        "colab": {
          "base_uri": "https://localhost:8080/"
        },
        "id": "EbURm5CI7KUD",
        "outputId": "14eee8b8-14c0-43f0-e42d-e3c29ae3ad60"
      },
      "source": [
        "### Get count of both null and missing values in pyspark\n",
        "from pyspark.sql.functions import isnan, when, count, col\n",
        "data.select([count(when(isnan(c) | col(c).isNull(), c)).alias(c) for c in data.columns]).show()"
      ],
      "execution_count": 104,
      "outputs": [
        {
          "output_type": "stream",
          "text": [
            "+---+---+---+---+---+\n",
            "| AT|  V| AP| RH| EP|\n",
            "+---+---+---+---+---+\n",
            "|  0|  0|  0|  0|  0|\n",
            "+---+---+---+---+---+\n",
            "\n"
          ],
          "name": "stdout"
        }
      ]
    },
    {
      "cell_type": "markdown",
      "metadata": {
        "id": "4KM8CGJS7UYs"
      },
      "source": [
        "**Step-4 Verctorize the features**"
      ]
    },
    {
      "cell_type": "code",
      "metadata": {
        "id": "EL0jdJFTaKMq"
      },
      "source": [
        "from pyspark.ml.feature import *"
      ],
      "execution_count": 105,
      "outputs": []
    },
    {
      "cell_type": "code",
      "metadata": {
        "id": "w4Bh7qX1aKP3"
      },
      "source": [
        "#Use Vectorize Assembler to convert the indepenedent column to independent Feature \n",
        "from pyspark.ml.feature import VectorAssembler\n",
        "featureassembler=VectorAssembler(inputCols=['AT', 'V', 'AP', 'RH'],outputCol=\"Independent Feature\")"
      ],
      "execution_count": 106,
      "outputs": []
    },
    {
      "cell_type": "code",
      "metadata": {
        "id": "Ru_xn8behB5v"
      },
      "source": [
        "output=featureassembler.transform(data)"
      ],
      "execution_count": 107,
      "outputs": []
    },
    {
      "cell_type": "code",
      "metadata": {
        "colab": {
          "base_uri": "https://localhost:8080/"
        },
        "id": "V5NcCtY2aKiz",
        "outputId": "5b31a58f-b7ff-4efa-d141-6f2da72f1bbe"
      },
      "source": [
        "output.show()"
      ],
      "execution_count": 108,
      "outputs": [
        {
          "output_type": "stream",
          "text": [
            "+---+---+----+---+---+--------------------+\n",
            "| AT|  V|  AP| RH| EP| Independent Feature|\n",
            "+---+---+----+---+---+--------------------+\n",
            "| 14| 41|1024| 73|463|[14.0,41.0,1024.0...|\n",
            "| 25| 62|1020| 59|444|[25.0,62.0,1020.0...|\n",
            "|  5| 39|1012| 92|488|[5.0,39.0,1012.0,...|\n",
            "| 20| 57|1010| 76|446|[20.0,57.0,1010.0...|\n",
            "| 10| 37|1009| 96|473|[10.0,37.0,1009.0...|\n",
            "| 26| 59|1012| 58|443|[26.0,59.0,1012.0...|\n",
            "| 15| 43|1014| 75|467|[15.0,43.0,1014.0...|\n",
            "|  9| 44|1019| 66|478|[9.0,44.0,1019.0,...|\n",
            "| 14| 45|1021| 41|475|[14.0,45.0,1021.0...|\n",
            "| 11| 43|1015| 70|477|[11.0,43.0,1015.0...|\n",
            "| 17| 43|1008| 75|453|[17.0,43.0,1008.0...|\n",
            "| 20| 46|1014| 64|453|[20.0,46.0,1014.0...|\n",
            "| 24| 73|1011| 84|440|[24.0,73.0,1011.0...|\n",
            "| 25| 58|1012| 61|451|[25.0,58.0,1012.0...|\n",
            "| 26| 69|1009| 87|433|[26.0,69.0,1009.0...|\n",
            "| 21| 43|1015| 43|462|[21.0,43.0,1015.0...|\n",
            "| 18| 45|1022| 48|467|[18.0,45.0,1022.0...|\n",
            "| 11| 41|1022| 77|477|[11.0,41.0,1022.0...|\n",
            "| 14| 52|1023| 63|459|[14.0,52.0,1023.0...|\n",
            "| 13| 38|1015| 55|464|[13.0,38.0,1015.0...|\n",
            "+---+---+----+---+---+--------------------+\n",
            "only showing top 20 rows\n",
            "\n"
          ],
          "name": "stdout"
        }
      ]
    },
    {
      "cell_type": "code",
      "metadata": {
        "colab": {
          "base_uri": "https://localhost:8080/"
        },
        "id": "EX8v10Lpr9_w",
        "outputId": "32a6f6d7-39c7-454c-b8de-4ae6c1d26107"
      },
      "source": [
        "print(featureassembler.explainParams())"
      ],
      "execution_count": 109,
      "outputs": [
        {
          "output_type": "stream",
          "text": [
            "handleInvalid: How to handle invalid data (NULL and NaN values). Options are 'skip' (filter out rows with invalid data), 'error' (throw an error), or 'keep' (return relevant number of NaN in the output). Column lengths are taken from the size of ML Attribute Group, which can be set using `VectorSizeHint` in a pipeline before `VectorAssembler`. Column lengths can also be inferred from first rows of the data since it is safe to do so but only in case of 'error' or 'skip'). (default: error)\n",
            "inputCols: input column names. (current: ['AT', 'V', 'AP', 'RH'])\n",
            "outputCol: output column name. (default: VectorAssembler_89c8c020a26c__output, current: Independent Feature)\n"
          ],
          "name": "stdout"
        }
      ]
    },
    {
      "cell_type": "code",
      "metadata": {
        "id": "1ZZob_EVr-DK"
      },
      "source": [
        "finaldata=output.select('Independent Feature','EP')"
      ],
      "execution_count": 110,
      "outputs": []
    },
    {
      "cell_type": "code",
      "metadata": {
        "colab": {
          "base_uri": "https://localhost:8080/"
        },
        "id": "bUtHhIoTr-eJ",
        "outputId": "dd1056e4-5ebe-408d-d5af-633f4e8cee78"
      },
      "source": [
        "#Final data after vectorize assembler\n",
        "finaldata.show()"
      ],
      "execution_count": 111,
      "outputs": [
        {
          "output_type": "stream",
          "text": [
            "+--------------------+---+\n",
            "| Independent Feature| EP|\n",
            "+--------------------+---+\n",
            "|[14.0,41.0,1024.0...|463|\n",
            "|[25.0,62.0,1020.0...|444|\n",
            "|[5.0,39.0,1012.0,...|488|\n",
            "|[20.0,57.0,1010.0...|446|\n",
            "|[10.0,37.0,1009.0...|473|\n",
            "|[26.0,59.0,1012.0...|443|\n",
            "|[15.0,43.0,1014.0...|467|\n",
            "|[9.0,44.0,1019.0,...|478|\n",
            "|[14.0,45.0,1021.0...|475|\n",
            "|[11.0,43.0,1015.0...|477|\n",
            "|[17.0,43.0,1008.0...|453|\n",
            "|[20.0,46.0,1014.0...|453|\n",
            "|[24.0,73.0,1011.0...|440|\n",
            "|[25.0,58.0,1012.0...|451|\n",
            "|[26.0,69.0,1009.0...|433|\n",
            "|[21.0,43.0,1015.0...|462|\n",
            "|[18.0,45.0,1022.0...|467|\n",
            "|[11.0,41.0,1022.0...|477|\n",
            "|[14.0,52.0,1023.0...|459|\n",
            "|[13.0,38.0,1015.0...|464|\n",
            "+--------------------+---+\n",
            "only showing top 20 rows\n",
            "\n"
          ],
          "name": "stdout"
        }
      ]
    },
    {
      "cell_type": "markdown",
      "metadata": {
        "id": "7hs7e63i7jtS"
      },
      "source": [
        "**Step-5 Fit Linear Regression Model**"
      ]
    },
    {
      "cell_type": "code",
      "metadata": {
        "id": "Hl2iqdsEaKla"
      },
      "source": [
        "#Use Linear Regression \n",
        "from pyspark.ml.regression import LinearRegression\n",
        "train_data,test_data=finaldata.randomSplit([0.75,0.25])\n",
        "regressor=LinearRegression(featuresCol=\"Independent Feature\",labelCol='EP')\n",
        "regressor=regressor.fit(train_data)"
      ],
      "execution_count": 112,
      "outputs": []
    },
    {
      "cell_type": "code",
      "metadata": {
        "colab": {
          "base_uri": "https://localhost:8080/"
        },
        "id": "iieInccyaKpB",
        "outputId": "ca060757-4795-4445-9605-97889bd619f8"
      },
      "source": [
        "type(regressor)"
      ],
      "execution_count": 113,
      "outputs": [
        {
          "output_type": "execute_result",
          "data": {
            "text/plain": [
              "pyspark.ml.regression.LinearRegressionModel"
            ]
          },
          "metadata": {
            "tags": []
          },
          "execution_count": 113
        }
      ]
    },
    {
      "cell_type": "markdown",
      "metadata": {
        "id": "9d8a9Zlc74TN"
      },
      "source": [
        "**Step-6 View model summary**"
      ]
    },
    {
      "cell_type": "code",
      "metadata": {
        "colab": {
          "base_uri": "https://localhost:8080/"
        },
        "id": "hwsapHi7upcX",
        "outputId": "dab3a95a-34d6-438d-902d-9fa06b587d9d"
      },
      "source": [
        "#R2 Score \n",
        "print(\"R2:\", regressor.summary.r2)\n",
        "print(\"Intercept: \", regressor.intercept, \"Coefficients\", regressor.coefficients)"
      ],
      "execution_count": 114,
      "outputs": [
        {
          "output_type": "stream",
          "text": [
            "R2: 0.9273227793762697\n",
            "Intercept:  446.68289902375756 Coefficients [-1.9593709705583748,-0.24044851439115086,0.06808856328819865,-0.1551897262064853]\n"
          ],
          "name": "stdout"
        }
      ]
    },
    {
      "cell_type": "markdown",
      "metadata": {
        "id": "jVRjU49h7-1b"
      },
      "source": [
        "**Step-7 Predict the Value**"
      ]
    },
    {
      "cell_type": "code",
      "metadata": {
        "colab": {
          "base_uri": "https://localhost:8080/"
        },
        "id": "wdFEhNWUupfd",
        "outputId": "45d0e19d-bf01-4b79-e494-c7b089a3c505"
      },
      "source": [
        "#Predict the value \n",
        "df_pred = regressor.transform(finaldata)\n",
        "df_pred.show()"
      ],
      "execution_count": 115,
      "outputs": [
        {
          "output_type": "stream",
          "text": [
            "+--------------------+---+------------------+\n",
            "| Independent Feature| EP|        prediction|\n",
            "+--------------------+---+------------------+\n",
            "|[14.0,41.0,1024.0...|463| 467.7871551399451|\n",
            "|[25.0,62.0,1020.0...|444| 443.0849575753268|\n",
            "|[5.0,39.0,1012.0,...|488| 482.1367233463712|\n",
            "|[20.0,57.0,1010.0...|446| 450.7649440216822|\n",
            "|[10.0,37.0,1009.0...|473| 471.9957409276711|\n",
            "|[26.0,59.0,1012.0...|443| 441.4574133678428|\n",
            "|[15.0,43.0,1014.0...|467| 464.3556220553095|\n",
            "|[9.0,44.0,1019.0,...|478|477.60854971656795|\n",
            "|[14.0,45.0,1021.0...|475|471.58716663112347|\n",
            "|[11.0,43.0,1015.0...|477| 473.0371431318636|\n",
            "|[17.0,43.0,1008.0...|453| 460.0283487344635|\n",
            "|[20.0,46.0,1014.0...|453| 455.5445086476155|\n",
            "|[24.0,73.0,1011.0...|440| 437.9068546628266|\n",
            "|[25.0,58.0,1012.0...|451|443.19166367417284|\n",
            "|[26.0,69.0,1009.0...|433| 434.3481604740786|\n",
            "|[21.0,43.0,1015.0...|462|  457.633556033855|\n",
            "|[18.0,45.0,1022.0...|467|462.73144322873276|\n",
            "|[11.0,41.0,1022.0...|477| 472.9083320202179|\n",
            "|[14.0,52.0,1023.0...|459| 466.6260301804191|\n",
            "|[13.0,38.0,1015.0...|464| 472.6484896557999|\n",
            "+--------------------+---+------------------+\n",
            "only showing top 20 rows\n",
            "\n"
          ],
          "name": "stdout"
        }
      ]
    },
    {
      "cell_type": "markdown",
      "metadata": {
        "id": "R-ToHmTu8JWq"
      },
      "source": [
        "**Step-8 Evaluate It**"
      ]
    },
    {
      "cell_type": "code",
      "metadata": {
        "id": "l6ZB2P_Ew28G"
      },
      "source": [
        "from pyspark.ml.evaluation import RegressionEvaluator"
      ],
      "execution_count": 116,
      "outputs": []
    },
    {
      "cell_type": "code",
      "metadata": {
        "colab": {
          "base_uri": "https://localhost:8080/"
        },
        "id": "UPJ4KNQKupi1",
        "outputId": "e7c62063-4328-4ace-f0d0-6dbc017978c3"
      },
      "source": [
        "#Evalute the model using regressor evaluator \n",
        "evaluator = RegressionEvaluator()\n",
        "print(evaluator.explainParams())"
      ],
      "execution_count": 117,
      "outputs": [
        {
          "output_type": "stream",
          "text": [
            "labelCol: label column name. (default: label)\n",
            "metricName: metric name in evaluation - one of:\n",
            "                       rmse - root mean squared error (default)\n",
            "                       mse - mean squared error\n",
            "                       r2 - r^2 metric\n",
            "                       mae - mean absolute error\n",
            "                       var - explained variance. (default: rmse)\n",
            "predictionCol: prediction column name. (default: prediction)\n",
            "throughOrigin: whether the regression is through the origin. (default: False)\n",
            "weightCol: weight column name. If this is not set or empty, we treat all instance weights as 1.0. (undefined)\n"
          ],
          "name": "stdout"
        }
      ]
    },
    {
      "cell_type": "code",
      "metadata": {
        "colab": {
          "base_uri": "https://localhost:8080/"
        },
        "id": "mAmPZujzupob",
        "outputId": "b3fa51d0-3b75-45f2-8b63-ffeaa24e1874"
      },
      "source": [
        "evaluator = RegressionEvaluator(labelCol = \"EP\", predictionCol = \"prediction\", metricName = \"rmse\")\n",
        "evaluator.evaluate(df_pred)"
      ],
      "execution_count": 118,
      "outputs": [
        {
          "output_type": "execute_result",
          "data": {
            "text/plain": [
              "4.601174400411695"
            ]
          },
          "metadata": {
            "tags": []
          },
          "execution_count": 118
        }
      ]
    },
    {
      "cell_type": "markdown",
      "metadata": {
        "id": "LqqjBomK8Txy"
      },
      "source": [
        "**Step-9  Build a pipeline**"
      ]
    },
    {
      "cell_type": "code",
      "metadata": {
        "id": "RbTYuIw7up3u"
      },
      "source": [
        "from pyspark.ml.pipeline import Pipeline, PipelineModel"
      ],
      "execution_count": 119,
      "outputs": []
    },
    {
      "cell_type": "code",
      "metadata": {
        "colab": {
          "base_uri": "https://localhost:8080/"
        },
        "id": "fYYe8fv2up_j",
        "outputId": "69d4e917-9ab2-4f07-d86d-1dca2cb7cb9e"
      },
      "source": [
        "pipeline = Pipeline()\n",
        "print(pipeline.explainParams())\n",
        "pipeline.setStages([featureassembler, regressor])\n",
        "pipelineModel = pipeline.fit(finaldata)\n"
      ],
      "execution_count": 120,
      "outputs": [
        {
          "output_type": "stream",
          "text": [
            "stages: a list of pipeline stages (undefined)\n"
          ],
          "name": "stdout"
        }
      ]
    },
    {
      "cell_type": "code",
      "metadata": {
        "colab": {
          "base_uri": "https://localhost:8080/"
        },
        "id": "UoNg4F2JuqIJ",
        "outputId": "ed476a68-c73e-4c66-d909-b5f4952dab88"
      },
      "source": [
        "pipeline.getStages()"
      ],
      "execution_count": 121,
      "outputs": [
        {
          "output_type": "execute_result",
          "data": {
            "text/plain": [
              "[VectorAssembler_89c8c020a26c,\n",
              " LinearRegressionModel: uid=LinearRegression_53515e35339d, numFeatures=4]"
            ]
          },
          "metadata": {
            "tags": []
          },
          "execution_count": 121
        }
      ]
    },
    {
      "cell_type": "code",
      "metadata": {
        "colab": {
          "base_uri": "https://localhost:8080/"
        },
        "id": "brC3FaMEuqQ0",
        "outputId": "97352eb6-bafd-4b2e-f223-d36368b35ae8"
      },
      "source": [
        "lr_model = pipelineModel.stages[1]\n",
        "lr_model .coefficients"
      ],
      "execution_count": 122,
      "outputs": [
        {
          "output_type": "execute_result",
          "data": {
            "text/plain": [
              "DenseVector([-1.9594, -0.2404, 0.0681, -0.1552])"
            ]
          },
          "metadata": {
            "tags": []
          },
          "execution_count": 122
        }
      ]
    },
    {
      "cell_type": "code",
      "metadata": {
        "colab": {
          "base_uri": "https://localhost:8080/"
        },
        "id": "wq1-7x07zIli",
        "outputId": "4fe4ebb0-3c78-40f5-905d-9d65b059be97"
      },
      "source": [
        "pipelineModel.transform(data).show()"
      ],
      "execution_count": 123,
      "outputs": [
        {
          "output_type": "stream",
          "text": [
            "+---+---+----+---+---+--------------------+------------------+\n",
            "| AT|  V|  AP| RH| EP| Independent Feature|        prediction|\n",
            "+---+---+----+---+---+--------------------+------------------+\n",
            "| 14| 41|1024| 73|463|[14.0,41.0,1024.0...| 467.7871551399451|\n",
            "| 25| 62|1020| 59|444|[25.0,62.0,1020.0...| 443.0849575753268|\n",
            "|  5| 39|1012| 92|488|[5.0,39.0,1012.0,...| 482.1367233463712|\n",
            "| 20| 57|1010| 76|446|[20.0,57.0,1010.0...| 450.7649440216822|\n",
            "| 10| 37|1009| 96|473|[10.0,37.0,1009.0...| 471.9957409276711|\n",
            "| 26| 59|1012| 58|443|[26.0,59.0,1012.0...| 441.4574133678428|\n",
            "| 15| 43|1014| 75|467|[15.0,43.0,1014.0...| 464.3556220553095|\n",
            "|  9| 44|1019| 66|478|[9.0,44.0,1019.0,...|477.60854971656795|\n",
            "| 14| 45|1021| 41|475|[14.0,45.0,1021.0...|471.58716663112347|\n",
            "| 11| 43|1015| 70|477|[11.0,43.0,1015.0...| 473.0371431318636|\n",
            "| 17| 43|1008| 75|453|[17.0,43.0,1008.0...| 460.0283487344635|\n",
            "| 20| 46|1014| 64|453|[20.0,46.0,1014.0...| 455.5445086476155|\n",
            "| 24| 73|1011| 84|440|[24.0,73.0,1011.0...| 437.9068546628266|\n",
            "| 25| 58|1012| 61|451|[25.0,58.0,1012.0...|443.19166367417284|\n",
            "| 26| 69|1009| 87|433|[26.0,69.0,1009.0...| 434.3481604740786|\n",
            "| 21| 43|1015| 43|462|[21.0,43.0,1015.0...|  457.633556033855|\n",
            "| 18| 45|1022| 48|467|[18.0,45.0,1022.0...|462.73144322873276|\n",
            "| 11| 41|1022| 77|477|[11.0,41.0,1022.0...| 472.9083320202179|\n",
            "| 14| 52|1023| 63|459|[14.0,52.0,1023.0...| 466.6260301804191|\n",
            "| 13| 38|1015| 55|464|[13.0,38.0,1015.0...| 472.6484896557999|\n",
            "+---+---+----+---+---+--------------------+------------------+\n",
            "only showing top 20 rows\n",
            "\n"
          ],
          "name": "stdout"
        }
      ]
    },
    {
      "cell_type": "code",
      "metadata": {
        "colab": {
          "base_uri": "https://localhost:8080/"
        },
        "id": "Y-Yg0DSJzIox",
        "outputId": "7873530d-28a8-45a2-d4e9-54b5bed03ce9"
      },
      "source": [
        "evaluator.evaluate(pipelineModel.transform(data))"
      ],
      "execution_count": 126,
      "outputs": [
        {
          "output_type": "execute_result",
          "data": {
            "text/plain": [
              "4.601174400411695"
            ]
          },
          "metadata": {
            "tags": []
          },
          "execution_count": 126
        }
      ]
    },
    {
      "cell_type": "markdown",
      "metadata": {
        "id": "duckM9Y78fPo"
      },
      "source": [
        "**Step-10 Save The Pipeline**"
      ]
    },
    {
      "cell_type": "code",
      "metadata": {
        "id": "cta9PT4GzIr5"
      },
      "source": [
        "#Save the Model \n",
        "pipelineModel.save(\"mode.pipeline\")"
      ],
      "execution_count": 127,
      "outputs": []
    },
    {
      "cell_type": "code",
      "metadata": {
        "colab": {
          "base_uri": "https://localhost:8080/"
        },
        "id": "AWGEm2sXzIut",
        "outputId": "9f9e9e74-a1b6-440b-fc99-3e42fb8d9d04"
      },
      "source": [
        "!/content/model.pipeline"
      ],
      "execution_count": 128,
      "outputs": [
        {
          "output_type": "stream",
          "text": [
            "/bin/bash: /content/model.pipeline: Is a directory\n"
          ],
          "name": "stdout"
        }
      ]
    },
    {
      "cell_type": "code",
      "metadata": {
        "colab": {
          "base_uri": "https://localhost:8080/"
        },
        "id": "LN-tF-gfzIxn",
        "outputId": "e47b0bb3-534c-48cc-f3b8-927da300b58a"
      },
      "source": [
        "saved_model = PipelineModel.load(\"model.pipeline\")\n",
        "saved_model.stages[1].coefficients"
      ],
      "execution_count": 129,
      "outputs": [
        {
          "output_type": "execute_result",
          "data": {
            "text/plain": [
              "DenseVector([-1.9572, -0.2404, 0.0692, -0.1556])"
            ]
          },
          "metadata": {
            "tags": []
          },
          "execution_count": 129
        }
      ]
    },
    {
      "cell_type": "code",
      "metadata": {
        "colab": {
          "base_uri": "https://localhost:8080/"
        },
        "id": "qoOuVQnuzI_z",
        "outputId": "cf46f372-4b34-4603-83d7-1fc9ea801d17"
      },
      "source": [
        "saved_model.transform(data).show()"
      ],
      "execution_count": 130,
      "outputs": [
        {
          "output_type": "stream",
          "text": [
            "+---+---+----+---+---+--------------------+------------------+\n",
            "| AT|  V|  AP| RH| EP| Independent Feature|        prediction|\n",
            "+---+---+----+---+---+--------------------+------------------+\n",
            "| 14| 41|1024| 73|463|[14.0,41.0,1024.0...|467.80901267624444|\n",
            "| 25| 62|1020| 59|444|[25.0,62.0,1020.0...|443.13283898143794|\n",
            "|  5| 39|1012| 92|488|[5.0,39.0,1012.0,...|482.11885083705505|\n",
            "| 20| 57|1010| 76|446|[20.0,57.0,1010.0...| 450.7843722060337|\n",
            "| 10| 37|1009| 96|473|[10.0,37.0,1009.0...| 471.9835950951943|\n",
            "| 26| 59|1012| 58|443|[26.0,59.0,1012.0...| 441.4989958735198|\n",
            "| 15| 43|1014| 75|467|[15.0,43.0,1014.0...| 464.3681737535729|\n",
            "|  9| 44|1019| 66|478|[9.0,44.0,1019.0,...| 477.6172968124296|\n",
            "| 14| 45|1021| 41|475|[14.0,45.0,1021.0...| 471.6186186864442|\n",
            "| 11| 43|1015| 70|477|[11.0,43.0,1015.0...|473.04420556822123|\n",
            "| 17| 43|1008| 75|453|[17.0,43.0,1008.0...| 460.0386954252518|\n",
            "| 20| 46|1014| 64|453|[20.0,46.0,1014.0...| 455.5722414550841|\n",
            "| 24| 73|1011| 84|440|[24.0,73.0,1011.0...| 437.9338008841963|\n",
            "| 25| 58|1012| 61|451|[25.0,58.0,1012.0...|443.22986952267576|\n",
            "| 26| 69|1009| 87|433|[26.0,69.0,1009.0...| 434.3757747730269|\n",
            "| 21| 43|1015| 43|462|[21.0,43.0,1015.0...|457.67255056064965|\n",
            "| 18| 45|1022| 48|467|[18.0,45.0,1022.0...|462.76975598226323|\n",
            "| 11| 41|1022| 77|477|[11.0,41.0,1022.0...|472.92006322509684|\n",
            "| 14| 52|1023| 63|459|[14.0,52.0,1023.0...|466.65145848632665|\n",
            "| 13| 38|1015| 55|464|[13.0,38.0,1015.0...| 472.6653805673844|\n",
            "+---+---+----+---+---+--------------------+------------------+\n",
            "only showing top 20 rows\n",
            "\n"
          ],
          "name": "stdout"
        }
      ]
    },
    {
      "cell_type": "code",
      "metadata": {
        "id": "PugMf3cM0RZk"
      },
      "source": [
        "df_train, df_test = data.randomSplit(weights=[0.7, 0.3], seed = 200)"
      ],
      "execution_count": 131,
      "outputs": []
    },
    {
      "cell_type": "code",
      "metadata": {
        "colab": {
          "base_uri": "https://localhost:8080/"
        },
        "id": "PZ1OAwHX0EZd",
        "outputId": "0603236e-61f5-436a-a9b0-fb84d7e495d8"
      },
      "source": [
        "pipelineModel = pipeline.fit(df_train)\n",
        "evaluator.evaluate(pipelineModel.transform(df_test))"
      ],
      "execution_count": 132,
      "outputs": [
        {
          "output_type": "execute_result",
          "data": {
            "text/plain": [
              "4.6074541991106335"
            ]
          },
          "metadata": {
            "tags": []
          },
          "execution_count": 132
        }
      ]
    },
    {
      "cell_type": "code",
      "metadata": {
        "id": "3MKoGkGO1-K6"
      },
      "source": [
        ""
      ],
      "execution_count": 132,
      "outputs": []
    }
  ]
}